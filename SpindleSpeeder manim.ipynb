{
 "cells": [
  {
   "cell_type": "code",
   "execution_count": 1,
   "metadata": {},
   "outputs": [
    {
     "data": {
      "text/html": [
       "<pre style=\"white-space:pre;overflow-x:auto;line-height:normal;font-family:Menlo,'DejaVu Sans Mono',consolas,'Courier New',monospace\">Manim Community <span style=\"color: #008000; text-decoration-color: #008000\">v0.17.2</span>\n",
       "\n",
       "</pre>\n"
      ],
      "text/plain": [
       "Manim Community \u001b[32mv0.\u001b[0m\u001b[32m17.2\u001b[0m\n",
       "\n"
      ]
     },
     "metadata": {},
     "output_type": "display_data"
    }
   ],
   "source": [
    "from manim import *"
   ]
  },
  {
   "cell_type": "code",
   "execution_count": 24,
   "metadata": {},
   "outputs": [
    {
     "name": "stderr",
     "output_type": "stream",
     "text": [
      "                                                                                                          \r"
     ]
    },
    {
     "data": {
      "text/html": [
       "<video src=\"media\\jupyter\\TitleCard1@2023-06-23@00-19-17.mp4\" controls autoplay loop style=\"max-width: 60%;\"  >\n",
       "      Your browser does not support the <code>video</code> element.\n",
       "    </video>"
      ],
      "text/plain": [
       "<IPython.core.display.Video object>"
      ]
     },
     "metadata": {},
     "output_type": "display_data"
    }
   ],
   "source": [
    "%%manim -qh --disable_caching -v WARNING TitleCard1\n",
    "class TitleCard1(Scene):\n",
    "    def construct(self):\n",
    "        Title = Text(\"Stock V2-10 Pocket NC\").shift(UP*0.5)\n",
    "\n",
    "        Pt1 = Text(\"0.05 in cubed MRR\")\n",
    "        Pt2 = Text(\"10k Rpm|0.02 DOC|0.1 WOC|20 IPM\")\n",
    "\n",
    "\n",
    "        pts = VGroup( \n",
    "            Pt2,\n",
    "            Pt1\n",
    "        ).arrange(DOWN).shift(DOWN)\n",
    "\n",
    "        self.play(Write(Title),run_time=.5)\n",
    "        self.play(\n",
    "            Write(pts)\n",
    "        ,run_time=.5)\n",
    "\n",
    "        self.wait()\n",
    "        self.play(FadeOut(Title),FadeOut(pts))"
   ]
  },
  {
   "cell_type": "code",
   "execution_count": 26,
   "metadata": {},
   "outputs": [
    {
     "name": "stderr",
     "output_type": "stream",
     "text": [
      "                                                                                                             \r"
     ]
    },
    {
     "data": {
      "text/html": [
       "<video src=\"media\\jupyter\\TitleCard2@2023-06-23@00-19-58.mp4\" controls autoplay loop style=\"max-width: 60%;\"  >\n",
       "      Your browser does not support the <code>video</code> element.\n",
       "    </video>"
      ],
      "text/plain": [
       "<IPython.core.display.Video object>"
      ]
     },
     "metadata": {},
     "output_type": "display_data"
    }
   ],
   "source": [
    "%%manim -qh --disable_caching -v WARNING TitleCard2\n",
    "class TitleCard2(Scene):\n",
    "    def construct(self):\n",
    "        Title = Text(\"Upgraded V2-10 Pocket NC\").shift(UP*.5)\n",
    "\n",
    "        Pt1 = Text(\"0.15 in cubed MRR!!\",weight=BOLD)\n",
    "        Pt2 = Text(\"30k Rpm|0.02 DOC|0.1 WOC|60 IPM\")\n",
    "\n",
    "\n",
    "        pts = VGroup( \n",
    "            Pt2,\n",
    "            Pt1\n",
    "\n",
    "        ).arrange(DOWN).shift(DOWN)\n",
    "\n",
    "        self.play(Write(Title),run_time=.5)\n",
    "        self.play(\n",
    "            Write(pts)\n",
    "        ,run_time=.5)\n",
    "\n",
    "        self.wait()\n",
    "        self.play(FadeOut(Title),FadeOut(pts))"
   ]
  },
  {
   "cell_type": "code",
   "execution_count": 109,
   "metadata": {},
   "outputs": [
    {
     "name": "stderr",
     "output_type": "stream",
     "text": [
      "                                                                                                         \r"
     ]
    },
    {
     "data": {
      "text/html": [
       "<video src=\"media\\jupyter\\TracedPathExample@2023-06-14@23-22-46.mp4\" controls autoplay loop style=\"max-width: 60%;\"  >\n",
       "      Your browser does not support the <code>video</code> element.\n",
       "    </video>"
      ],
      "text/plain": [
       "<IPython.core.display.Video object>"
      ]
     },
     "metadata": {},
     "output_type": "display_data"
    }
   ],
   "source": [
    "%%manim -qh --disable_caching -v WARNING TracedPathExample\n",
    "\n",
    "class TracedPathExample(Scene):\n",
    "    def construct(self):\n",
    "        circ = Circle(color=RED).shift(4*LEFT)\n",
    "        dot = Dot(color=RED).move_to(circ.get_start())\n",
    "        rolling_circle = VGroup(circ, dot)\n",
    "        trace = TracedPath(circ.get_start)\n",
    "        rolling_circle.add_updater(lambda m: m.rotate(-0.3))\n",
    "        self.add(trace, rolling_circle)\n",
    "        self.play(rolling_circle.animate.shift(4*RIGHT), run_time=8, rate_func=linear)"
   ]
  },
  {
   "cell_type": "code",
   "execution_count": 4,
   "metadata": {},
   "outputs": [
    {
     "name": "stderr",
     "output_type": "stream",
     "text": [
      "                                                                                                         \r"
     ]
    },
    {
     "data": {
      "text/html": [
       "<video src=\"media\\jupyter\\MRR@2023-06-18@01-02-40.mp4\" controls autoplay loop style=\"max-width: 60%;\"  >\n",
       "      Your browser does not support the <code>video</code> element.\n",
       "    </video>"
      ],
      "text/plain": [
       "<IPython.core.display.Video object>"
      ]
     },
     "metadata": {},
     "output_type": "display_data"
    }
   ],
   "source": [
    "%%manim -qh --disable_caching -v WARNING MRR\n",
    "class MRR(Scene):\n",
    "    def construct(self):\n",
    "\n",
    "        Pjt = Tex(\"Material Removal Rate\")\n",
    "\n",
    "        Pjt.generate_target()\n",
    "        Pjt.target.shift(UP).scale(2)\n",
    "\n",
    "        Con = Tex(\"\\emph{Volume of Material Removed Per Minute 'MRR'}\")\n",
    "        Proto = Tex(\"\\emph{How do people interact with it?}\")\n",
    "\n",
    "\n",
    "        gr = VGroup( \n",
    "            Con\n",
    "        ).arrange(RIGHT)\n",
    "\n",
    "        \n",
    "        #framebox1 = SurroundingRectangle(Con,buff = .2)\n",
    "\n",
    "        self.play(Write(Pjt))\n",
    "        self.play(MoveToTarget(Pjt))\n",
    "\n",
    "        self.play(\n",
    "            Write(gr)\n",
    "        )\n",
    "        #self.play(Create(framebox1))\n",
    "        self.wait()\n",
    "        self.play(FadeOut(Pjt),FadeOut(gr))"
   ]
  },
  {
   "cell_type": "code",
   "execution_count": 60,
   "metadata": {},
   "outputs": [
    {
     "name": "stderr",
     "output_type": "stream",
     "text": [
      "                                                                                              \r"
     ]
    },
    {
     "data": {
      "text/html": [
       "<video src=\"media\\jupyter\\GoFaster@2023-06-18@14-28-27.mp4\" controls autoplay loop style=\"max-width: 60%;\"  >\n",
       "      Your browser does not support the <code>video</code> element.\n",
       "    </video>"
      ],
      "text/plain": [
       "<IPython.core.display.Video object>"
      ]
     },
     "metadata": {},
     "output_type": "display_data"
    }
   ],
   "source": [
    "%%manim -qh --disable_caching -v WARNING GoFaster\n",
    "class GoFaster(Scene):\n",
    "    def construct(self):\n",
    "\n",
    "        Pjt = Tex(\"Why?\")\n",
    "\n",
    "        Pjt.generate_target()\n",
    "        Pjt.target.shift(UP).scale(2)\n",
    "\n",
    "        Con = Tex(\"\\emph{Why can't increase for go faster?}\")\n",
    "        Proto = Tex(\"\\emph{How do people interact with it?}\")\n",
    "\n",
    "\n",
    "        gr = VGroup( \n",
    "            Con\n",
    "        ).arrange(RIGHT)\n",
    "\n",
    "        \n",
    "        #framebox1 = SurroundingRectangle(Con,buff = .2)\n",
    "\n",
    "        self.play(Write(Pjt))\n",
    "        self.play(MoveToTarget(Pjt))\n",
    "\n",
    "        self.play(\n",
    "            Write(gr)\n",
    "        )\n",
    "        #self.play(Create(framebox1))\n",
    "        self.wait()\n",
    "        self.play(FadeOut(Pjt),FadeOut(gr))"
   ]
  },
  {
   "cell_type": "code",
   "execution_count": 2,
   "metadata": {},
   "outputs": [
    {
     "name": "stderr",
     "output_type": "stream",
     "text": [
      "                                                                                                         \r"
     ]
    },
    {
     "data": {
      "text/html": [
       "<video src=\"media\\jupyter\\EndMill@2023-06-18@00-53-43.mp4\" controls autoplay loop style=\"max-width: 60%;\"  >\n",
       "      Your browser does not support the <code>video</code> element.\n",
       "    </video>"
      ],
      "text/plain": [
       "<IPython.core.display.Video object>"
      ]
     },
     "metadata": {},
     "output_type": "display_data"
    }
   ],
   "source": [
    "%%manim -qh --disable_caching -v WARNING EndMill\n",
    "\n",
    "class EndMill(Scene):\n",
    "    def construct(self):\n",
    "        circ = Arc(color=WHITE,angle=1.835*PI).shift(4*LEFT).rotate(PI/2+.35)\n",
    "        circ2 = Circle(color=WHITE,radius = 4,fill_opacity=.1).shift(4*LEFT)\n",
    "        dot = Dot(radius=.02).move_to(circ.get_top()+.2*UP+.2*RIGHT)\n",
    "        line = Line(circ.get_center(),dot.get_center())\n",
    "        dot2 = Dot(radius=.02).move_to(circ.get_top()+.18*UP)\n",
    "        dot3 = Dot(radius=0.02).move_to(circ.get_top()-.15*UP+.1*LEFT)\n",
    "        line2 = Line(dot.get_center(),dot2.get_center())\n",
    "        line3 = Line(dot2.get_center(),dot3.get_center())\n",
    "        line4 = Line(circ.get_center(),dot3.get_center())\n",
    "        dot4 = Dot(radius=0.02).move_to(circ.get_top()+.06*DOWN+.35*LEFT)\n",
    "        line5 = Line(dot2.get_center(),dot4.get_center())\n",
    "        line6 = Line(dot4.get_center(),dot3.get_center())\n",
    "        rolling_circle = VGroup(circ,line,line2,line3,line4,line5,line6)\n",
    "\n",
    "        self.play(Create(rolling_circle))\n",
    "        self.wait()\n",
    "        rolling_circle.add_updater(lambda m: m.rotate(-PI/32))\n",
    "        self.wait()\n",
    "        self.play(rolling_circle.animate.shift(.001*RIGHT), run_time=5, rate_func=linear)"
   ]
  },
  {
   "cell_type": "code",
   "execution_count": 2,
   "metadata": {},
   "outputs": [
    {
     "name": "stderr",
     "output_type": "stream",
     "text": [
      "                                                                                    \r"
     ]
    },
    {
     "data": {
      "text/html": [
       "<video src=\"media\\jupyter\\CuttingMaterial@2023-06-23@22-14-14.mp4\" controls autoplay loop style=\"max-width: 60%;\"  >\n",
       "      Your browser does not support the <code>video</code> element.\n",
       "    </video>"
      ],
      "text/plain": [
       "<IPython.core.display.Video object>"
      ]
     },
     "metadata": {},
     "output_type": "display_data"
    }
   ],
   "source": [
    "%%manim -qh --disable_caching -v WARNING CuttingMaterial\n",
    "\n",
    "class CuttingMaterial(Scene):\n",
    "    def construct(self):\n",
    "        circ = Arc(color=WHITE,angle=1.835*PI).shift(4*LEFT).rotate(PI/2+.35)\n",
    "        circ2 = Circle(color=BLACK,radius = 10,fill_opacity=.1).shift(4*LEFT)\n",
    "        dot = Dot(radius=.02).move_to(circ.get_top()+.2*UP+.2*RIGHT)\n",
    "        line = Line(circ.get_center(),dot.get_center())\n",
    "        dot2 = Dot(radius=.02).move_to(circ.get_top()+.18*UP)\n",
    "        dot3 = Dot(radius=0.02).move_to(circ.get_top()-.15*UP+.1*LEFT)\n",
    "        line2 = Line(dot.get_center(),dot2.get_center())\n",
    "        line3 = Line(dot2.get_center(),dot3.get_center())\n",
    "        line4 = Line(circ.get_center(),dot3.get_center())\n",
    "        dot4 = Dot(radius=0.02).move_to(circ.get_top()+.06*DOWN+.35*LEFT)\n",
    "        line5 = Line(dot2.get_center(),dot4.get_center())\n",
    "        line6 = Line(dot4.get_center(),dot3.get_center())\n",
    "\n",
    "        square = Square(color=BLUE, fill_opacity=.5).shift(DOWN+RIGHT)\n",
    "\n",
    "\n",
    "\n",
    "\n",
    "        rolling_circle = VGroup(circ, dot,line,dot2,dot3,dot4,line2,line3,line4,line5,line6,circ2)\n",
    "        trace = TracedPath(dot.get_center)\n",
    "        ChangeSpeed.add_updater(rolling_circle, lambda x, dt: x.rotate(-45.3*dt).shift(4*RIGHT*dt))\n",
    "\n",
    "        #rolling_circle.add_updater(lambda m: m.rotate(-0.05))\n",
    "\n",
    "        self.add(trace, rolling_circle,line,dot2,dot3,line2,line3,line4,dot4,line5,line6,square)\n",
    "\n",
    "        self.play(\n",
    "            ChangeSpeed(\n",
    "                Wait(),\n",
    "                speedinfo={1: 0},\n",
    "                affects_speed_updaters=True,\n",
    "            ),run_time=6\n",
    "        )\n",
    "\n",
    "        \n",
    "        #self.play(rolling_circle.animate.shift(2*RIGHT), run_time=10, rate_func=linear)"
   ]
  },
  {
   "cell_type": "code",
   "execution_count": 3,
   "metadata": {},
   "outputs": [
    {
     "name": "stderr",
     "output_type": "stream",
     "text": [
      "                                                                                    \r"
     ]
    },
    {
     "data": {
      "text/html": [
       "<video src=\"media\\jupyter\\StopShort@2023-06-23@22-14-26.mp4\" controls autoplay loop style=\"max-width: 60%;\"  >\n",
       "      Your browser does not support the <code>video</code> element.\n",
       "    </video>"
      ],
      "text/plain": [
       "<IPython.core.display.Video object>"
      ]
     },
     "metadata": {},
     "output_type": "display_data"
    }
   ],
   "source": [
    "%%manim -qh --disable_caching -v WARNING StopShort\n",
    "\n",
    "class StopShort(Scene):\n",
    "    def construct(self):\n",
    "        circ = Arc(color=WHITE,angle=1.835*PI).shift(4*LEFT).rotate(PI/2+.35)\n",
    "        circ2 = Circle(color=BLACK,radius = 10,fill_opacity=.1).shift(4*LEFT)\n",
    "        dot = Dot(radius=.02).move_to(circ.get_top()+.2*UP+.2*RIGHT)\n",
    "        line = Line(circ.get_center(),dot.get_center())\n",
    "        dot2 = Dot(radius=.02).move_to(circ.get_top()+.18*UP)\n",
    "        dot3 = Dot(radius=0.02).move_to(circ.get_top()-.15*UP+.1*LEFT)\n",
    "        line2 = Line(dot.get_center(),dot2.get_center())\n",
    "        line3 = Line(dot2.get_center(),dot3.get_center())\n",
    "        line4 = Line(circ.get_center(),dot3.get_center())\n",
    "        dot4 = Dot(radius=0.02).move_to(circ.get_top()+.06*DOWN+.35*LEFT)\n",
    "        line5 = Line(dot2.get_center(),dot4.get_center())\n",
    "        line6 = Line(dot4.get_center(),dot3.get_center())\n",
    "\n",
    "        square = Square(color=BLUE, fill_opacity=.5).shift(5.01*DOWN+5*RIGHT).scale(5)\n",
    "\n",
    "\n",
    "\n",
    "\n",
    "        rolling_circle = VGroup(circ, dot,line,dot2,dot3,dot4,line2,line3,line4,line5,line6,circ2)\n",
    "        trace = TracedPath(dot.get_center)\n",
    "        ChangeSpeed.add_updater(rolling_circle, lambda x, dt: x.rotate(-20.25*dt).shift(3.8*RIGHT*dt))\n",
    "\n",
    "        self.add(trace, rolling_circle,square)\n",
    "\n",
    "        self.play(\n",
    "            ChangeSpeed(\n",
    "                Wait(),\n",
    "                speedinfo={1:0},\n",
    "                affects_speed_updaters=True,\n",
    "            ),run_time=6\n",
    "        )\n",
    "\n",
    "        self.wait()\n",
    "\n",
    "        \n",
    "        #self.play(rolling_circle.animate.shift(2*RIGHT), run_time=10, rate_func=linear)"
   ]
  },
  {
   "cell_type": "code",
   "execution_count": 5,
   "metadata": {},
   "outputs": [
    {
     "name": "stderr",
     "output_type": "stream",
     "text": [
      "                                                                                                  \r"
     ]
    },
    {
     "data": {
      "text/html": [
       "<video src=\"media\\jupyter\\StopShort@2023-06-23@22-15-42.mp4\" controls autoplay loop style=\"max-width: 60%;\"  >\n",
       "      Your browser does not support the <code>video</code> element.\n",
       "    </video>"
      ],
      "text/plain": [
       "<IPython.core.display.Video object>"
      ]
     },
     "metadata": {},
     "output_type": "display_data"
    }
   ],
   "source": [
    "%%manim -qh --disable_caching -v WARNING StopShort\n",
    "\n",
    "class StopShort(Scene):\n",
    "    def construct(self):\n",
    "        circ = Arc(color=WHITE,angle=1.835*PI).shift(4*LEFT).rotate(PI/2+.35)\n",
    "        circ2 = Circle(color=BLACK,radius = 1.25,fill_opacity=.1).shift(4*LEFT)\n",
    "        dot = Dot(radius=.02).move_to(circ.get_top()+.2*UP+.2*RIGHT)\n",
    "        line = Line(circ.get_center(),dot.get_center())\n",
    "        dot2 = Dot(radius=.02).move_to(circ.get_top()+.18*UP)\n",
    "        dot3 = Dot(radius=0.02).move_to(circ.get_top()-.15*UP+.1*LEFT)\n",
    "        line2 = Line(dot.get_center(),dot2.get_center())\n",
    "        line3 = Line(dot2.get_center(),dot3.get_center())\n",
    "        line4 = Line(circ.get_center(),dot3.get_center())\n",
    "        dot4 = Dot(radius=0.02).move_to(circ.get_top()+.06*DOWN+.35*LEFT)\n",
    "        line5 = Line(dot2.get_center(),dot4.get_center())\n",
    "        line6 = Line(dot4.get_center(),dot3.get_center())\n",
    "\n",
    "        square = Square(color=BLUE, fill_opacity=.5).shift(5.01*DOWN+2.2*RIGHT).scale(5)\n",
    "        i=Intersection(square,circ2,color=RED,fill_opacity=.5)\n",
    "        p1 = [2.2,1.9,0]\n",
    "        p2 = [1.8,1.9,0]\n",
    "        b1=BraceBetweenPoints(p1,p2)\n",
    "        b1text = b1.get_text(\"Chip Load\")\n",
    "\n",
    "        arrow = Arrow([-2.8, 0, 0],[-4, 2, 0],buff = 0, color = RED)\n",
    "        arrow2 = Arrow([-2.8, 0, 0],[-1.8, -2, 0],buff = 0, color = WHITE)\n",
    "\n",
    "        cutting_text = Text('Reaction Force', color=RED).next_to(arrow.get_end(),RIGHT)\n",
    "        reaction_text = Text('Cutting Force',color=WHITE).next_to(arrow2.get_end(),RIGHT)\n",
    "\n",
    "\n",
    "        rolling_circle = VGroup(circ, dot,line,dot2,dot3,dot4,line2,line3,line4,line5,line6)\n",
    "        trace = TracedPath(dot.get_center)\n",
    "\n",
    "        self.play(Create(rolling_circle))\n",
    "        self.play(Rotate(rolling_circle,-1440*DEGREES,about_point=circ.get_center(),run_time=2))\n",
    "        self.play(FadeIn(square))\n",
    "        self.play(Rotate(rolling_circle,-80*DEGREES,about_point=circ.get_center()))\n",
    "        self.play(FadeIn(arrow),FadeIn(arrow2))\n",
    "        self.wait(1)\n",
    "        self.play(FadeIn(cutting_text),FadeIn(reaction_text))\n",
    "        self.wait(1)\n",
    "        self.play(FadeOut(arrow),FadeOut(arrow2),FadeOut(cutting_text),FadeOut(reaction_text))\n",
    "        #self.play(Wiggle(square,scale_value=1,rotation_angle = .01),Wiggle(rolling_circle,scale_value=1,rotation_angle = .01))\n",
    "        self.add(trace)\n",
    "        self.wait()\n",
    "        self.play(Rotate(rolling_circle, -80*DEGREES, about_point=circ.get_center(),run_time = .5))\n",
    "        self.wait()\n",
    "        self.play(i.animate.scale(5).move_to(RIGHT*2+UP*1))\n",
    "        self.play(FadeIn(b1),FadeIn(b1text))\n",
    "        self.wait()\n",
    "        self.play(FadeOut(square),FadeOut(rolling_circle),FadeOut(trace),FadeOut(b1),FadeOut(b1text),FadeOut(i))\n",
    "\n",
    "\n",
    "\n",
    "        \n",
    "        #self.play(rolling_circle.animate.shift(2*RIGHT), run_time=10, rate_func=linear)"
   ]
  },
  {
   "cell_type": "code",
   "execution_count": 2,
   "metadata": {},
   "outputs": [
    {
     "name": "stderr",
     "output_type": "stream",
     "text": [
      "                                                                                                      \r"
     ]
    },
    {
     "data": {
      "text/html": [
       "<video src=\"media\\jupyter\\Waggle@2023-06-19@12-56-54.mp4\" controls autoplay loop style=\"max-width: 60%;\"  >\n",
       "      Your browser does not support the <code>video</code> element.\n",
       "    </video>"
      ],
      "text/plain": [
       "<IPython.core.display.Video object>"
      ]
     },
     "metadata": {},
     "output_type": "display_data"
    }
   ],
   "source": [
    "%%manim -qh --disable_caching -v WARNING Waggle\n",
    "\n",
    "class Waggle(Scene):\n",
    "    def construct(self):\n",
    "        circ = Arc(color=WHITE,angle=1.835*PI).shift(4*LEFT).rotate(PI/2+.35)\n",
    "        circ2 = Circle(color=BLACK,radius = 1.25,fill_opacity=.1).shift(4*LEFT)\n",
    "        dot = Dot(radius=.02).move_to(circ.get_top()+.2*UP+.2*RIGHT)\n",
    "        line = Line(circ.get_center(),dot.get_center())\n",
    "        dot2 = Dot(radius=.02).move_to(circ.get_top()+.18*UP)\n",
    "        dot3 = Dot(radius=0.02).move_to(circ.get_top()-.15*UP+.1*LEFT)\n",
    "        line2 = Line(dot.get_center(),dot2.get_center())\n",
    "        line3 = Line(dot2.get_center(),dot3.get_center())\n",
    "        line4 = Line(circ.get_center(),dot3.get_center())\n",
    "        dot4 = Dot(radius=0.02).move_to(circ.get_top()+.06*DOWN+.35*LEFT)\n",
    "        line5 = Line(dot2.get_center(),dot4.get_center())\n",
    "        line6 = Line(dot4.get_center(),dot3.get_center())\n",
    "\n",
    "        square = Square(color=BLUE, fill_opacity=.5).shift(5.01*DOWN+2.2*RIGHT).scale(5)\n",
    "        i=Intersection(square,circ2,color=RED,fill_opacity=.5)\n",
    "        p1 = [2.2,1.9,0]\n",
    "        p2 = [1.8,1.9,0]\n",
    "        b1=BraceBetweenPoints(p1,p2)\n",
    "        b1text = b1.get_text(\"Chip Load\")\n",
    "\n",
    "        arrow = Arrow([-2.8, 0, 0],[-4, 2, 0],buff = 0, color = RED)\n",
    "        arrow2 = Arrow([-2.8, 0, 0],[-1.8, -2, 0],buff = 0, color = WHITE)\n",
    "\n",
    "        cutting_text = Text('Cutting Force', color=WHITE).next_to(arrow.get_end(),RIGHT)\n",
    "        reaction_text = Text('Reaction Force',color=WHITE).next_to(arrow2.get_end(),RIGHT)\n",
    "\n",
    "        rolling_circle = VGroup(circ, dot,line,dot2,dot3,dot4,line2,line3,line4,line5,line6)\n",
    "        trace = TracedPath(dot.get_center)\n",
    "\n",
    "        self.play(FadeIn(rolling_circle),FadeIn(square))\n",
    "        self.play(Rotate(rolling_circle,-80*DEGREES,about_point=circ.get_center()))\n",
    "        self.play(Wiggle(rolling_circle,scale_value=1,rotation_angle = .01),Wiggle(square,scale_value=1,rotation_angle = .01))\n",
    "        self.play(FadeOut(square),FadeOut(rolling_circle))\n",
    "\n",
    "\n",
    "\n",
    "        #self.play(rolling_circle.animate.shift(2*RIGHT), run_time=10, rate_func=linear)"
   ]
  },
  {
   "cell_type": "code",
   "execution_count": 85,
   "metadata": {},
   "outputs": [
    {
     "name": "stderr",
     "output_type": "stream",
     "text": [
      "                                                                                                    \r"
     ]
    },
    {
     "data": {
      "text/html": [
       "<video src=\"media\\jupyter\\Chatter@2023-06-19@21-35-50.mp4\" controls autoplay loop style=\"max-width: 60%;\"  >\n",
       "      Your browser does not support the <code>video</code> element.\n",
       "    </video>"
      ],
      "text/plain": [
       "<IPython.core.display.Video object>"
      ]
     },
     "metadata": {},
     "output_type": "display_data"
    }
   ],
   "source": [
    "%%manim -qh --disable_caching -v WARNING Chatter\n",
    "\n",
    "class Chatter(Scene):\n",
    "    def construct(self):\n",
    "        circ = Arc(color=WHITE,angle=1.835*PI).shift(4*LEFT).rotate(PI/2+.35)\n",
    "        circ2 = Circle(color=BLACK,radius = 1.25,fill_opacity=.1).shift(3.8*LEFT)\n",
    "        circ3 = Circle(color=WHITE,radius = 1.25,fill_opacity=.3).shift(3.8*LEFT)\n",
    "        circ4 = Circle(color=WHITE,radius = 1.25,fill_opacity=.3).shift(3.4*LEFT)\n",
    "        circ5 = Circle(color=WHITE,radius = 1.25,fill_opacity=.3).shift(2.5*LEFT)\n",
    "        dot = Dot(radius=.02).move_to(circ.get_top()+.2*UP+.2*RIGHT)\n",
    "        line = Line(circ.get_center(),dot.get_center())\n",
    "        dot2 = Dot(radius=.02).move_to(circ.get_top()+.18*UP)\n",
    "        dot3 = Dot(radius=0.02).move_to(circ.get_top()-.15*UP+.1*LEFT)\n",
    "        line2 = Line(dot.get_center(),dot2.get_center())\n",
    "        line3 = Line(dot2.get_center(),dot3.get_center())\n",
    "        line4 = Line(circ.get_center(),dot3.get_center())\n",
    "        dot4 = Dot(radius=0.02).move_to(circ.get_top()+.06*DOWN+.35*LEFT)\n",
    "        line5 = Line(dot2.get_center(),dot4.get_center())\n",
    "        line6 = Line(dot4.get_center(),dot3.get_center())\n",
    "\n",
    "        square = Square(color=BLUE, fill_opacity=.5).shift(5.01*DOWN+2.2*RIGHT).scale(5)\n",
    "        i=Intersection(square,circ3,color=RED,fill_opacity=.5)\n",
    "        i2=Intersection(square,circ4,color=ORANGE,fill_opacity=.5)\n",
    "        i3=Intersection(i,i2,color=YELLOW,fill_opacity=.5)\n",
    "        i4=Intersection(square,circ5,color=GREEN,fill_opacity=.5)\n",
    "        i5=Intersection(i2,i4,color=BLUE,fill_opacity=.5)\n",
    "        i6=Difference(i4,i5,color=PURPLE,fill_opacity=.5)\n",
    "        i7=Difference(i4,i6,color=WHITE,fill_opacity=.5)\n",
    "        i8=Difference(i7,i3,color=WHITE,fill_opacity=.5)\n",
    "        \n",
    "        p1 = [4.75,.3,0]\n",
    "        p2 = [2.75,.3,0]\n",
    "        b1=BraceBetweenPoints(p1,p2)\n",
    "        b1text = b1.get_text(\"~Chip Load Bad\")\n",
    "\n",
    "\n",
    "        p3 = [-.25,0,0]\n",
    "        p4 = [-1.25,0,0]\n",
    "        b2=BraceBetweenPoints(p3,p4)\n",
    "        b2text = b2.get_text(\"Chip Load Blue\")\n",
    "\n",
    "        p5 = [-3.65,-.25,0]\n",
    "        p6 = [-4.35,-.25,0]\n",
    "        b3=BraceBetweenPoints(p5,p6)\n",
    "        b3text = b3.get_text(\"Chip Load Red\")\n",
    "\n",
    "\n",
    "\n",
    "        l1=Line(LEFT*3.8,LEFT*2)\n",
    "\n",
    "        rolling_circle = VGroup(circ, dot,line,dot2,dot3,dot4,line2,line3,line4,line5,line6)\n",
    "        trace = TracedPath(dot.get_center)\n",
    "\n",
    "        text=Tex(\"Your Mill's screwed\").shift(UP*3)\n",
    "\n",
    "        self.play(FadeIn(rolling_circle),FadeIn(square))\n",
    "        self.play(Rotate(rolling_circle,-80*DEGREES,about_point=circ.get_center()))\n",
    "        self.add(trace)\n",
    "        self.play(\n",
    "            Wiggle(square,scale_value=1,rotation_angle = .008,run_time=4),\n",
    "            Wiggle(rolling_circle,scale_value=1,rotation_angle = .008,run_time=4),\n",
    "            Rotate(rolling_circle, -1800*DEGREES, about_point=circ.get_center(),run_time = 4,rate_func=linear),\n",
    "            MoveAlongPath(rolling_circle,l1,run_time=4, rate_func=smooth)\n",
    "            )\n",
    "        self.wait()\n",
    "\n",
    "        self.play(FadeIn(i3),FadeIn(i6),FadeIn(i8))\n",
    "        self.play(FadeOut(square),FadeOut(trace),FadeOut(rolling_circle))\n",
    "        self.play(\n",
    "            i3.animate.scale(2).move_to(LEFT*4+DOWN),\n",
    "            i8.animate.scale(2).move_to(LEFT+DOWN),\n",
    "            i6.animate.scale(2).move_to(RIGHT*3+DOWN)\n",
    "            ,run_time=3)\n",
    "        self.play(FadeIn(b3),FadeIn(b3text))\n",
    "        self.play(FadeIn(b2),FadeIn(b2text))\n",
    "        self.play(FadeIn(b1),FadeIn(b1text))\n",
    "        #self.play(i8.animate.scale(2).move_to(LEFT+DOWN))\n",
    "        #self.play(i6.animate.scale(2).move_to(RIGHT*3+DOWN))\n",
    "        self.wait()\n",
    "        self.play(Create(text),run_time=.5)\n",
    "        self.play(FadeOut(i3),FadeOut(i8),FadeOut(i6),FadeOut(b1),FadeOut(b1text),FadeOut(b2),FadeOut(b2text),FadeOut(b3),FadeOut(b3text))\n"
   ]
  },
  {
   "cell_type": "code",
   "execution_count": 70,
   "metadata": {},
   "outputs": [
    {
     "name": "stderr",
     "output_type": "stream",
     "text": [
      "                                                                                     \r"
     ]
    },
    {
     "data": {
      "text/html": [
       "<video src=\"media\\jupyter\\Cuttingtable@2023-06-19@16-15-25.mp4\" controls autoplay loop style=\"max-width: 60%;\"  >\n",
       "      Your browser does not support the <code>video</code> element.\n",
       "    </video>"
      ],
      "text/plain": [
       "<IPython.core.display.Video object>"
      ]
     },
     "metadata": {},
     "output_type": "display_data"
    }
   ],
   "source": [
    "%%manim -qh --disable_caching -v WARNING Cuttingtable\n",
    "\n",
    "class Cuttingtable(Scene):\n",
    "    def construct(self):\n",
    "        table = Table(\n",
    "            [[\"10,000\" ],\n",
    "            [\"0.025 in.\"],\n",
    "            [\"0.10 in.\" ],\n",
    "            [\"20 in/min\"],\n",
    "            [\"0.002 in.\" ],\n",
    "            [\"0.05 in^3\"],\n",
    "            [\"0.67 lbs.\"] ],\n",
    "            row_labels=[Text(\"RPM\"), Text(\"DOC\"), Text(\"WOC\"), Text(\"IPM\"), Text(\"Chip Load\"), Text(\"MRR\"), Text(\"Cutting Force\")],\n",
    "            col_labels=[Text(\"Stock PocketNC\")],\n",
    "            include_outer_lines=True).scale(.5).shift(LEFT*3)\n",
    "\n",
    "        highlight = table.get_highlighted_cell((7,2), color=GREEN)\n",
    "        table.add_to_back(highlight)\n",
    "\n",
    "        highlight2 = table.get_highlighted_cell((8,2), color=GREEN)\n",
    "        table.add_to_back(highlight2)\n",
    "        #table.add(SurroundingRectangle(table.get_rows()[3]))\n",
    "        self.play(table.create())\n",
    "        self.add(table)\n",
    "        self.wait()"
   ]
  },
  {
   "cell_type": "code",
   "execution_count": 75,
   "metadata": {},
   "outputs": [
    {
     "name": "stderr",
     "output_type": "stream",
     "text": [
      "                                                                                     \r"
     ]
    },
    {
     "data": {
      "text/html": [
       "<video src=\"media\\jupyter\\ModCut@2023-06-19@16-34-11.mp4\" controls autoplay loop style=\"max-width: 60%;\"  >\n",
       "      Your browser does not support the <code>video</code> element.\n",
       "    </video>"
      ],
      "text/plain": [
       "<IPython.core.display.Video object>"
      ]
     },
     "metadata": {},
     "output_type": "display_data"
    }
   ],
   "source": [
    "%%manim -qh --disable_caching -v WARNING ModCut\n",
    "\n",
    "class ModCut(Scene):\n",
    "    def construct(self):\n",
    "        table = Table(\n",
    "            [[\"10,000\",\"10,000\",\"10,000\"],\n",
    "            [\"0.025 in.\",\"0.025 in.\",\"0.05 in.\"],\n",
    "            [\"0.10 in.\",\".2 in.\",\"0.1 in.\"],\n",
    "            [\"40 in/min\",\"20 in/min\",\"20 in/min\"],\n",
    "            [\"0.004 in.\",\".002 in.\",\"0.002 in.\"],\n",
    "            [\"0.1 in^3\",\"0.1 in^3\",\"0.1 in^3.\"],\n",
    "            [\"1.3 lbs.\",\"1.3 lbs.\",\"1.2 lbs.\"] ],\n",
    "            row_labels=[Text(\"RPM\"), Text(\"DOC\"), Text(\"WOC\"), Text(\"IPM\"), Text(\"Chip Load\"), Text(\"MRR\"), Text(\"Cutting Force\")],\n",
    "            col_labels=[Text(\"Higher IPM\"),Text(\"Wider Cut\"),Text(\"Deeper Cut\")],\n",
    "            include_outer_lines=True).scale(.5)\n",
    "\n",
    "        highlight = table.get_highlighted_cell((7,2), color=RED)\n",
    "        table.add_to_back(highlight)\n",
    "\n",
    "        highlight2 = table.get_highlighted_cell((8,2), color=RED)\n",
    "        table.add_to_back(highlight2)\n",
    "\n",
    "        highlight3 = table.get_highlighted_cell((7,3), color=RED)\n",
    "        table.add_to_back(highlight3)\n",
    "\n",
    "        highlight4 = table.get_highlighted_cell((8,3), color=RED)\n",
    "        table.add_to_back(highlight4)\n",
    "\n",
    "        highlight5 = table.get_highlighted_cell((7,4), color=RED)\n",
    "        table.add_to_back(highlight5)\n",
    "\n",
    "        highlight6 = table.get_highlighted_cell((8,4), color=RED)\n",
    "        table.add_to_back(highlight6)\n",
    "        #table.add(SurroundingRectangle(table.get_rows()[3]))\n",
    "        self.play(table.create())\n",
    "        self.add(table)\n",
    "        self.wait()"
   ]
  },
  {
   "cell_type": "code",
   "execution_count": 83,
   "metadata": {},
   "outputs": [
    {
     "name": "stderr",
     "output_type": "stream",
     "text": [
      "                                                                                              \r"
     ]
    },
    {
     "data": {
      "text/html": [
       "<video src=\"media\\jupyter\\ChipLoad@2023-06-19@21-19-21.mp4\" controls autoplay loop style=\"max-width: 60%;\"  >\n",
       "      Your browser does not support the <code>video</code> element.\n",
       "    </video>"
      ],
      "text/plain": [
       "<IPython.core.display.Video object>"
      ]
     },
     "metadata": {},
     "output_type": "display_data"
    }
   ],
   "source": [
    "%%manim -qh --disable_caching -v WARNING ChipLoad\n",
    "\n",
    "class ChipLoad(Scene):\n",
    "    def construct(self):\n",
    "        circ = Arc(color=WHITE,angle=1.835*PI).shift(4*LEFT).rotate(PI/2+.35)\n",
    "        circ2 = Circle(color=BLACK,radius = 1.25,fill_opacity=.1).shift(3.8*LEFT)\n",
    "        circ3 = Circle(color=WHITE,radius = 1.25,fill_opacity=.3).shift(3.8*LEFT)\n",
    "        circ4 = Circle(color=WHITE,radius = 1.25,fill_opacity=.3).shift(2.8*LEFT)\n",
    "        circ5 = Circle(color=WHITE,radius = 1.25,fill_opacity=.3).shift(2.5*LEFT)\n",
    "\n",
    "        square = Square(color=BLUE, fill_opacity=.5).shift(5.01*DOWN+2.2*RIGHT).scale(5)\n",
    "        i=Intersection(square,circ3,color=RED,fill_opacity=.5)\n",
    "        i2=Intersection(square,circ4,color=ORANGE,fill_opacity=.5)\n",
    "        i3=Intersection(i,i2,color=YELLOW,fill_opacity=.5)\n",
    "        i4=Intersection(square,circ5,color=GREEN,fill_opacity=.5)\n",
    "        i5=Intersection(i2,i4,color=BLUE,fill_opacity=.5)\n",
    "        i6=Difference(i4,i5,color=PURPLE,fill_opacity=.5)\n",
    "        i7=Difference(i4,i6,color=WHITE,fill_opacity=.5)\n",
    "        i8=Difference(i7,i3,color=WHITE,fill_opacity=.5)\n",
    "        \n",
    "        p1 = [.5,.3,0]\n",
    "        p2 = [-.5,.3,0]\n",
    "        b1=BraceBetweenPoints(p1,p2)\n",
    "        b1text = b1.get_text(\"Desired Chip Load\")\n",
    "\n",
    "\n",
    "        p3 = [3,2,0]\n",
    "        p4 = [-3,2,0]\n",
    "        b2=BraceBetweenPoints(p3,p4)\n",
    "        b2text = b2.get_text(\"Possible Chip Load\")\n",
    "\n",
    "        p5 = [-3.65,-.25,0]\n",
    "        p6 = [-4.35,-.25,0]\n",
    "        b3=BraceBetweenPoints(p5,p6)\n",
    "        b3text = b3.get_text(\"Chip Load Red\")\n",
    "\n",
    "\n",
    "        self.play(FadeIn(i6))\n",
    "        self.play(\n",
    "            i6.animate.scale(2).move_to(LEFT+DOWN)\n",
    "            ,run_time=3)\n",
    "        #self.play(FadeIn(b3),FadeIn(b3text))\n",
    "        self.play(FadeIn(b1),FadeIn(b1text))\n",
    "        self.play(FadeIn(b2),FadeIn(b2text))\n",
    "\n",
    "        self.wait()\n",
    "\n",
    "        self.play(FadeOut(i6),FadeOut(b1),FadeOut(b1text),FadeOut(b2),FadeOut(b2text))\n"
   ]
  },
  {
   "cell_type": "code",
   "execution_count": 86,
   "metadata": {},
   "outputs": [
    {
     "name": "stderr",
     "output_type": "stream",
     "text": [
      "                                                                                              \r"
     ]
    },
    {
     "data": {
      "text/html": [
       "<video src=\"media\\jupyter\\What@2023-06-19@21-39-12.mp4\" controls autoplay loop style=\"max-width: 60%;\"  >\n",
       "      Your browser does not support the <code>video</code> element.\n",
       "    </video>"
      ],
      "text/plain": [
       "<IPython.core.display.Video object>"
      ]
     },
     "metadata": {},
     "output_type": "display_data"
    }
   ],
   "source": [
    "%%manim -qh --disable_caching -v WARNING What\n",
    "class What(Scene):\n",
    "    def construct(self):\n",
    "\n",
    "        Pjt = Tex(\"What?\")\n",
    "\n",
    "        Pjt.generate_target()\n",
    "        Pjt.target.shift(UP).scale(2)\n",
    "\n",
    "        Con = Tex(\"\\emph{What else can I tweak?}\")\n",
    "        Proto = Tex(\"\\emph{How do people interact with it?}\")\n",
    "\n",
    "\n",
    "        gr = VGroup( \n",
    "            Con\n",
    "        ).arrange(RIGHT)\n",
    "\n",
    "        \n",
    "        #framebox1 = SurroundingRectangle(Con,buff = .2)\n",
    "\n",
    "        self.play(Write(Pjt))\n",
    "        self.play(MoveToTarget(Pjt))\n",
    "\n",
    "        self.play(\n",
    "            Write(gr)\n",
    "        )\n",
    "        #self.play(Create(framebox1))\n",
    "        self.wait()\n",
    "        self.play(FadeOut(Pjt),FadeOut(gr))"
   ]
  },
  {
   "cell_type": "code",
   "execution_count": 104,
   "metadata": {},
   "outputs": [
    {
     "name": "stderr",
     "output_type": "stream",
     "text": [
      "                                                                                                      \r"
     ]
    },
    {
     "data": {
      "text/html": [
       "<video src=\"media\\jupyter\\HighSpeedSpindle1@2023-06-19@22-00-37.mp4\" controls autoplay loop style=\"max-width: 60%;\"  >\n",
       "      Your browser does not support the <code>video</code> element.\n",
       "    </video>"
      ],
      "text/plain": [
       "<IPython.core.display.Video object>"
      ]
     },
     "metadata": {},
     "output_type": "display_data"
    }
   ],
   "source": [
    "%%manim -qh --disable_caching -v WARNING HighSpeedSpindle1\n",
    "\n",
    "class HighSpeedSpindle1(Scene):\n",
    "    def construct(self):\n",
    "        circ = Arc(color=WHITE,angle=1.835*PI).shift(4*LEFT).rotate(PI/2+.35)\n",
    "        circ2 = Circle(color=BLACK,radius = 2,fill_opacity=.001).shift(4*LEFT)\n",
    "        dot = Dot(radius=.02).move_to(circ.get_top()+.2*UP+.2*RIGHT)\n",
    "        line = Line(circ.get_center(),dot.get_center())\n",
    "        dot2 = Dot(radius=.02).move_to(circ.get_top()+.18*UP)\n",
    "        dot3 = Dot(radius=0.02).move_to(circ.get_top()-.15*UP+.1*LEFT)\n",
    "        line2 = Line(dot.get_center(),dot2.get_center())\n",
    "        line3 = Line(dot2.get_center(),dot3.get_center())\n",
    "        line4 = Line(circ.get_center(),dot3.get_center())\n",
    "        dot4 = Dot(radius=0.02).move_to(circ.get_top()+.06*DOWN+.35*LEFT)\n",
    "        line5 = Line(dot2.get_center(),dot4.get_center())\n",
    "        line6 = Line(dot4.get_center(),dot3.get_center())\n",
    "\n",
    "        square = Square(color=BLUE, fill_opacity=.5).shift(5.01*DOWN+2.2*RIGHT).scale(5)\n",
    "\n",
    "        l1=Line(LEFT*3.8,LEFT)\n",
    "\n",
    "        rolling_circle = VGroup(circ,circ2,dot,line,dot2,dot3,dot4,line2,line3,line4,line5,line6)\n",
    "        trace = TracedPath(dot.get_center)\n",
    "\n",
    "        self.play(FadeIn(rolling_circle),FadeIn(square))\n",
    "        self.add(trace)\n",
    "        self.play(\n",
    "            Rotate(rolling_circle, -1800*DEGREES, run_time = 9),\n",
    "            MoveAlongPath(rolling_circle,l1,run_time=9)\n",
    "            )\n",
    "        self.wait()\n",
    "        self.play(FadeOut(square),FadeOut(trace),FadeOut(rolling_circle))"
   ]
  },
  {
   "cell_type": "code",
   "execution_count": 105,
   "metadata": {},
   "outputs": [
    {
     "name": "stderr",
     "output_type": "stream",
     "text": [
      "                                                                                                        \r"
     ]
    },
    {
     "data": {
      "text/html": [
       "<video src=\"media\\jupyter\\HighSpeedSpindle2@2023-06-19@22-01-51.mp4\" controls autoplay loop style=\"max-width: 60%;\"  >\n",
       "      Your browser does not support the <code>video</code> element.\n",
       "    </video>"
      ],
      "text/plain": [
       "<IPython.core.display.Video object>"
      ]
     },
     "metadata": {},
     "output_type": "display_data"
    }
   ],
   "source": [
    "%%manim -qh --disable_caching -v WARNING HighSpeedSpindle2\n",
    "\n",
    "class HighSpeedSpindle2(Scene):\n",
    "    def construct(self):\n",
    "        circ = Arc(color=WHITE,angle=1.835*PI).shift(4*LEFT).rotate(PI/2+.35)\n",
    "        circ2 = Circle(color=BLACK,radius = 2,fill_opacity=.001).shift(4*LEFT)\n",
    "        dot = Dot(radius=.02).move_to(circ.get_top()+.2*UP+.2*RIGHT)\n",
    "        line = Line(circ.get_center(),dot.get_center())\n",
    "        dot2 = Dot(radius=.02).move_to(circ.get_top()+.18*UP)\n",
    "        dot3 = Dot(radius=0.02).move_to(circ.get_top()-.15*UP+.1*LEFT)\n",
    "        line2 = Line(dot.get_center(),dot2.get_center())\n",
    "        line3 = Line(dot2.get_center(),dot3.get_center())\n",
    "        line4 = Line(circ.get_center(),dot3.get_center())\n",
    "        dot4 = Dot(radius=0.02).move_to(circ.get_top()+.06*DOWN+.35*LEFT)\n",
    "        line5 = Line(dot2.get_center(),dot4.get_center())\n",
    "        line6 = Line(dot4.get_center(),dot3.get_center())\n",
    "\n",
    "        square = Square(color=BLUE, fill_opacity=.5).shift(5.01*DOWN+2.2*RIGHT).scale(5)\n",
    "\n",
    "        l1=Line(LEFT*3.8,LEFT)\n",
    "\n",
    "        rolling_circle = VGroup(circ,circ2,dot,line,dot2,dot3,dot4,line2,line3,line4,line5,line6)\n",
    "        trace = TracedPath(dot.get_center)\n",
    "\n",
    "        self.play(FadeIn(rolling_circle),FadeIn(square))\n",
    "        self.add(trace)\n",
    "        self.play(\n",
    "            Rotate(rolling_circle, -5400*DEGREES, run_time = 27),\n",
    "            MoveAlongPath(rolling_circle,l1,run_time=27)\n",
    "            )\n",
    "        self.wait()\n",
    "        self.play(FadeOut(square),FadeOut(trace),FadeOut(rolling_circle))"
   ]
  },
  {
   "cell_type": "code",
   "execution_count": 110,
   "metadata": {},
   "outputs": [
    {
     "name": "stderr",
     "output_type": "stream",
     "text": [
      "                                                                                              \r"
     ]
    },
    {
     "data": {
      "text/html": [
       "<video src=\"media\\jupyter\\Goals@2023-06-19@23-18-29.mp4\" controls autoplay loop style=\"max-width: 60%;\"  >\n",
       "      Your browser does not support the <code>video</code> element.\n",
       "    </video>"
      ],
      "text/plain": [
       "<IPython.core.display.Video object>"
      ]
     },
     "metadata": {},
     "output_type": "display_data"
    }
   ],
   "source": [
    "%%manim -qh --disable_caching -v WARNING Goals\n",
    "class Goals(Scene):\n",
    "    def construct(self):\n",
    "\n",
    "        Pjt = Tex(\"Goals\")\n",
    "\n",
    "        Pjt.generate_target()\n",
    "        Pjt.target.shift(UP*2).scale(2)\n",
    "\n",
    "        Con = Tex(\"\\emph{How am I going to hit 30,000 RPM?}\")\n",
    "        q1 = Tex(\"\\emph{What Motor?}\")\n",
    "        q2 = Tex(\"\\emph{What Belt?}\")\n",
    "        q3 = Tex(\"\\emph{What Bearings?}\")\n",
    "\n",
    "\n",
    "        gr = VGroup( \n",
    "            Con,\n",
    "            q1,\n",
    "            q2,\n",
    "            q3\n",
    "        ).arrange(DOWN).shift(DOWN)\n",
    "\n",
    "        \n",
    "        #framebox1 = SurroundingRectangle(Con,buff = .2)\n",
    "\n",
    "        self.play(Write(Pjt))\n",
    "        self.play(MoveToTarget(Pjt))\n",
    "\n",
    "        self.play(\n",
    "            Write(gr)\n",
    "        )\n",
    "        #self.play(Create(framebox1))\n",
    "        self.wait()\n",
    "        self.play(FadeOut(Pjt),FadeOut(gr))"
   ]
  },
  {
   "cell_type": "code",
   "execution_count": 8,
   "metadata": {},
   "outputs": [
    {
     "name": "stderr",
     "output_type": "stream",
     "text": [
      "                                                                                               \r"
     ]
    },
    {
     "data": {
      "text/html": [
       "<video src=\"media\\jupyter\\Constraints@2023-06-22@23-51-22.mp4\" controls autoplay loop style=\"max-width: 60%;\"  >\n",
       "      Your browser does not support the <code>video</code> element.\n",
       "    </video>"
      ],
      "text/plain": [
       "<IPython.core.display.Video object>"
      ]
     },
     "metadata": {},
     "output_type": "display_data"
    }
   ],
   "source": [
    "%%manim -qh --disable_caching -v WARNING Constraints\n",
    "class Constraints(Scene):\n",
    "    def construct(self):\n",
    "\n",
    "        Pjt = Tex(\"Constraints\")\n",
    "\n",
    "        Pjt.generate_target()\n",
    "        Pjt.target.shift(UP*2).scale(2)\n",
    "\n",
    "        Con = Tex(\"\\emph{How am I going to connect it to the machine ?}\")\n",
    "        q1 = Tex(\"\\emph{Needs to be smaller than longest toolholder}\")\n",
    "        q2 = Tex(\"\\emph{Needs to use ER11 Collets}\")\n",
    "        q3 = Tex(\"\\emph{What Bearings?}\")\n",
    "\n",
    "\n",
    "        gr = VGroup( \n",
    "            Con,\n",
    "            q1,\n",
    "            q2\n",
    "        ).arrange(DOWN)\n",
    "\n",
    "        \n",
    "        #framebox1 = SurroundingRectangle(Con,buff = .2)\n",
    "\n",
    "        self.play(Write(Pjt))\n",
    "        self.play(MoveToTarget(Pjt))\n",
    "\n",
    "        self.play(\n",
    "            Write(gr)\n",
    "        )\n",
    "        #self.play(Create(framebox1))\n",
    "        self.wait()\n",
    "        self.play(FadeOut(Pjt),FadeOut(gr))"
   ]
  },
  {
   "cell_type": "code",
   "execution_count": 13,
   "metadata": {},
   "outputs": [
    {
     "name": "stderr",
     "output_type": "stream",
     "text": [
      "                                                                                                           \r"
     ]
    },
    {
     "data": {
      "text/html": [
       "<video src=\"media\\jupyter\\TitleCard3@2023-06-22@23-55-07.mp4\" controls autoplay loop style=\"max-width: 60%;\"  >\n",
       "      Your browser does not support the <code>video</code> element.\n",
       "    </video>"
      ],
      "text/plain": [
       "<IPython.core.display.Video object>"
      ]
     },
     "metadata": {},
     "output_type": "display_data"
    }
   ],
   "source": [
    "%%manim -qh --disable_caching -v WARNING TitleCard3\n",
    "class TitleCard3(Scene):\n",
    "    def construct(self):\n",
    "        Title = Tex(\"Putting it all together\")\n",
    "        Title.generate_target()\n",
    "        Title.target.shift(UP).scale(2)\n",
    "\n",
    "        Pt1 = Tex(\"\\emph{Hopefully it works}\")\n",
    "        Pt2 = Tex(\"\\emph{10k Rpm|0.02 DOC|0.1 WOC|20 IPM}\")\n",
    "\n",
    "\n",
    "        pts = VGroup( \n",
    "            Pt1\n",
    "        ).arrange(DOWN)\n",
    "\n",
    "        self.play(Write(Title))\n",
    "        self.play(MoveToTarget(Title))\n",
    "        self.play(\n",
    "            Write(pts)\n",
    "        )\n",
    "\n",
    "        self.wait()\n",
    "        self.play(FadeOut(Title),FadeOut(pts))"
   ]
  }
 ],
 "metadata": {
  "kernelspec": {
   "display_name": "Python 3",
   "language": "python",
   "name": "python3"
  },
  "language_info": {
   "codemirror_mode": {
    "name": "ipython",
    "version": 3
   },
   "file_extension": ".py",
   "mimetype": "text/x-python",
   "name": "python",
   "nbconvert_exporter": "python",
   "pygments_lexer": "ipython3",
   "version": "3.10.8"
  },
  "orig_nbformat": 4
 },
 "nbformat": 4,
 "nbformat_minor": 2
}
